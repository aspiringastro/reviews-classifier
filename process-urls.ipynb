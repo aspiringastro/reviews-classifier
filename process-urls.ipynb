{
 "cells": [
  {
   "cell_type": "code",
   "execution_count": 5,
   "id": "5fd9ea38-cd8a-47d5-8546-914ed77fe9f1",
   "metadata": {},
   "outputs": [],
   "source": [
    "urls = open('reviews-urls.txt', 'r').read().splitlines()"
   ]
  },
  {
   "cell_type": "code",
   "execution_count": 22,
   "id": "56dd9bc9-e073-4bfa-ab23-2af4ba06365f",
   "metadata": {},
   "outputs": [
    {
     "data": {
      "text/plain": [
       "['Wireless_v1_00',\n",
       " 'Watches_v1_00',\n",
       " 'Video_Games_v1_00',\n",
       " 'Video_DVD_v1_00',\n",
       " 'Video_v1_00',\n",
       " 'Toys_v1_00',\n",
       " 'Tools_v1_00',\n",
       " 'Sports_v1_00',\n",
       " 'Software_v1_00',\n",
       " 'Shoes_v1_00',\n",
       " 'Pet_Products_v1_00',\n",
       " 'Personal_Care_Appliances_v1_00',\n",
       " 'PC_v1_00',\n",
       " 'Outdoors_v1_00',\n",
       " 'Office_Products_v1_00',\n",
       " 'Musical_Instruments_v1_00',\n",
       " 'Music_v1_00',\n",
       " 'Mobile_Electronics_v1_00',\n",
       " 'Mobile_Apps_v1_00',\n",
       " 'Major_Appliances_v1_00',\n",
       " 'Luggage_v1_00',\n",
       " 'Lawn_and_Garden_v1_00',\n",
       " 'Kitchen_v1_00',\n",
       " 'Jewelry_v1_00',\n",
       " 'Home_Improvement_v1_00',\n",
       " 'Home_Entertainment_v1_00',\n",
       " 'Home_v1_00',\n",
       " 'Health_Personal_Care_v1_00',\n",
       " 'Grocery_v1_00',\n",
       " 'Gift_Card_v1_00',\n",
       " 'Furniture_v1_00',\n",
       " 'Electronics_v1_00',\n",
       " 'Digital_Video_Games_v1_00',\n",
       " 'Digital_Video_Download_v1_00',\n",
       " 'Digital_Software_v1_00',\n",
       " 'Digital_Music_Purchase_v1_00',\n",
       " 'Digital_Ebook_Purchase_v1_01',\n",
       " 'Digital_Ebook_Purchase_v1_00',\n",
       " 'Camera_v1_00',\n",
       " 'Books_v1_02',\n",
       " 'Books_v1_01',\n",
       " 'Books_v1_00',\n",
       " 'Beauty_v1_00',\n",
       " 'Baby_v1_00',\n",
       " 'Automotive_v1_00',\n",
       " 'Apparel_v1_00']"
      ]
     },
     "execution_count": 22,
     "metadata": {},
     "output_type": "execute_result"
    }
   ],
   "source": [
    "from functools import reduce\n",
    "from difflib import SequenceMatcher\n",
    "def _find_prefix(x,y):\n",
    "    match = SequenceMatcher(None, x, y).find_longest_match()\n",
    "    return x[0:match.size] if match.a == 0 else ''\n",
    "    \n",
    "def _find_suffix(x,y):\n",
    "    match = SequenceMatcher(None, x, y).find_longest_match()\n",
    "    return x[match.a:match.a + match.size]\n",
    "\n",
    "def _get_review_category_files(urls):\n",
    "    base_url = reduce(_find_prefix, urls)\n",
    "    return [ u[len(base_url):] for u in urls ]\n",
    "\n",
    "def get_reviews_cats(urls):\n",
    "    rest_urls = _get_review_category_files(urls)\n",
    "    suffix = reduce(_find_suffix, rest_urls)\n",
    "    return list(map(lambda x: x[0:-len(suffix)], rest_urls))\n",
    "\n",
    "def get_reviews_dataset(urls):\n",
    "    return dict(zip(get_reviews_cats(urls), urls))\n",
    "\n",
    "get_reviews_cats(urls)\n"
   ]
  },
  {
   "cell_type": "code",
   "execution_count": 18,
   "id": "ae4c6baf-336e-4ffa-95ea-1cbb70474c8a",
   "metadata": {},
   "outputs": [
    {
     "data": {
      "text/plain": [
       "['Wireless_v1_00',\n",
       " 'Watches_v1_00',\n",
       " 'Video_Games_v1_00',\n",
       " 'Video_DVD_v1_00',\n",
       " 'Video_v1_00',\n",
       " 'Toys_v1_00',\n",
       " 'Tools_v1_00',\n",
       " 'Sports_v1_00',\n",
       " 'Software_v1_00',\n",
       " 'Shoes_v1_00',\n",
       " 'Pet_Products_v1_00',\n",
       " 'Personal_Care_Appliances_v1_00',\n",
       " 'PC_v1_00',\n",
       " 'Outdoors_v1_00',\n",
       " 'Office_Products_v1_00',\n",
       " 'Musical_Instruments_v1_00',\n",
       " 'Music_v1_00',\n",
       " 'Mobile_Electronics_v1_00',\n",
       " 'Mobile_Apps_v1_00',\n",
       " 'Major_Appliances_v1_00',\n",
       " 'Luggage_v1_00',\n",
       " 'Lawn_and_Garden_v1_00',\n",
       " 'Kitchen_v1_00',\n",
       " 'Jewelry_v1_00',\n",
       " 'Home_Improvement_v1_00',\n",
       " 'Home_Entertainment_v1_00',\n",
       " 'Home_v1_00',\n",
       " 'Health_Personal_Care_v1_00',\n",
       " 'Grocery_v1_00',\n",
       " 'Gift_Card_v1_00',\n",
       " 'Furniture_v1_00',\n",
       " 'Electronics_v1_00',\n",
       " 'Digital_Video_Games_v1_00',\n",
       " 'Digital_Video_Download_v1_00',\n",
       " 'Digital_Software_v1_00',\n",
       " 'Digital_Music_Purchase_v1_00',\n",
       " 'Digital_Ebook_Purchase_v1_01',\n",
       " 'Digital_Ebook_Purchase_v1_00',\n",
       " 'Camera_v1_00',\n",
       " 'Books_v1_02',\n",
       " 'Books_v1_01',\n",
       " 'Books_v1_00',\n",
       " 'Beauty_v1_00',\n",
       " 'Baby_v1_00',\n",
       " 'Automotive_v1_00',\n",
       " 'Apparel_v1_00']"
      ]
     },
     "execution_count": 18,
     "metadata": {},
     "output_type": "execute_result"
    }
   ],
   "source": [
    "\n",
    "\n",
    "\n",
    "\n"
   ]
  },
  {
   "cell_type": "code",
   "execution_count": null,
   "id": "4afe5d94-ea4a-45da-af10-58b8b35d89b8",
   "metadata": {},
   "outputs": [],
   "source": []
  }
 ],
 "metadata": {
  "kernelspec": {
   "display_name": "Python 3 (ipykernel)",
   "language": "python",
   "name": "python3"
  },
  "language_info": {
   "codemirror_mode": {
    "name": "ipython",
    "version": 3
   },
   "file_extension": ".py",
   "mimetype": "text/x-python",
   "name": "python",
   "nbconvert_exporter": "python",
   "pygments_lexer": "ipython3",
   "version": "3.10.8"
  }
 },
 "nbformat": 4,
 "nbformat_minor": 5
}
